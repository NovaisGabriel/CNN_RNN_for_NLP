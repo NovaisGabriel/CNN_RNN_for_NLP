{
 "cells": [
  {
   "cell_type": "markdown",
   "metadata": {},
   "source": [
    "<h1>RNN - LSTM x GRU</h1>\n",
    "<p>O objetivo deste código é apresentar um exemplo simples de aplicação de redes neurais recorrentes (RNN) para a análise de textos (NLP). Neste caso, vamos aplicar deep learning para obter a partir do comentário realizado a cerca de um deteminado filme se este comentário foi ou não positivo. Os dados foram retirados do IMDB, e cujo link segue abaixo: </p>\n",
    "<p><a href=\"https://archive.ics.uci.edu/ml/datasets/Sentiment+Labelled+Sentences\">Dados de comentários sobre IMDB</a></p>\n",
    "\n",
    "<p>Vale observar que como são dados utilizados justamente para testes então eles costumam vir já pré-processados de maneira que não é necessário fazer limpezas nos comentários, excluindo por exmeplo caracteres errados ou símbolos. O que será feito é justamente o procedimento de tokenização para depois aplicar os métodos de LSTM e GRU. </p>"
   ]
  },
  {
   "cell_type": "markdown",
   "metadata": {},
   "source": [
    "<h3>Importando Pacotes</h3>"
   ]
  },
  {
   "cell_type": "code",
   "execution_count": 2,
   "metadata": {
    "ExecuteTime": {
     "end_time": "2020-02-17T01:23:48.053108Z",
     "start_time": "2020-02-17T01:23:48.040849Z"
    }
   },
   "outputs": [],
   "source": [
    "import numpy as np\n",
    "import pandas as pd\n",
    "import matplotlib.pyplot as plt\n",
    "import keras\n",
    "\n",
    "from keras.preprocessing.text import Tokenizer\n",
    "from keras.preprocessing.sequence import pad_sequences\n",
    "from sklearn.model_selection import train_test_split\n",
    "from keras.models import Sequential\n",
    "from keras.layers import Dense, Activation,SpatialDropout1D,Embedding,LSTM,GRU\n",
    "from keras.callbacks import EarlyStopping"
   ]
  },
  {
   "cell_type": "markdown",
   "metadata": {},
   "source": [
    "<h3>Importando dados do IMDB</h3>"
   ]
  },
  {
   "cell_type": "code",
   "execution_count": 3,
   "metadata": {
    "ExecuteTime": {
     "end_time": "2020-02-17T01:23:49.851530Z",
     "start_time": "2020-02-17T01:23:49.828834Z"
    }
   },
   "outputs": [
    {
     "data": {
      "text/html": [
       "<div>\n",
       "<style scoped>\n",
       "    .dataframe tbody tr th:only-of-type {\n",
       "        vertical-align: middle;\n",
       "    }\n",
       "\n",
       "    .dataframe tbody tr th {\n",
       "        vertical-align: top;\n",
       "    }\n",
       "\n",
       "    .dataframe thead th {\n",
       "        text-align: right;\n",
       "    }\n",
       "</style>\n",
       "<table border=\"1\" class=\"dataframe\">\n",
       "  <thead>\n",
       "    <tr style=\"text-align: right;\">\n",
       "      <th></th>\n",
       "      <th>msg</th>\n",
       "      <th>positive</th>\n",
       "    </tr>\n",
       "  </thead>\n",
       "  <tbody>\n",
       "    <tr>\n",
       "      <td>0</td>\n",
       "      <td>A very, very, very slow-moving, aimless movie ...</td>\n",
       "      <td>0</td>\n",
       "    </tr>\n",
       "    <tr>\n",
       "      <td>1</td>\n",
       "      <td>Not sure who was more lost - the flat characte...</td>\n",
       "      <td>0</td>\n",
       "    </tr>\n",
       "    <tr>\n",
       "      <td>2</td>\n",
       "      <td>Attempting artiness with black &amp; white and cle...</td>\n",
       "      <td>0</td>\n",
       "    </tr>\n",
       "    <tr>\n",
       "      <td>3</td>\n",
       "      <td>Very little music or anything to speak of.</td>\n",
       "      <td>0</td>\n",
       "    </tr>\n",
       "    <tr>\n",
       "      <td>4</td>\n",
       "      <td>The best scene in the movie was when Gerardo i...</td>\n",
       "      <td>1</td>\n",
       "    </tr>\n",
       "  </tbody>\n",
       "</table>\n",
       "</div>"
      ],
      "text/plain": [
       "                                                 msg  positive\n",
       "0  A very, very, very slow-moving, aimless movie ...         0\n",
       "1  Not sure who was more lost - the flat characte...         0\n",
       "2  Attempting artiness with black & white and cle...         0\n",
       "3       Very little music or anything to speak of.           0\n",
       "4  The best scene in the movie was when Gerardo i...         1"
      ]
     },
     "execution_count": 3,
     "metadata": {},
     "output_type": "execute_result"
    }
   ],
   "source": [
    "df = pd.read_table('imdb.txt', header=0)\n",
    "df.head()"
   ]
  },
  {
   "cell_type": "code",
   "execution_count": 4,
   "metadata": {
    "ExecuteTime": {
     "end_time": "2020-02-17T01:23:51.611585Z",
     "start_time": "2020-02-17T01:23:51.602341Z"
    }
   },
   "outputs": [
    {
     "name": "stdout",
     "output_type": "stream",
     "text": [
      "<class 'pandas.core.frame.DataFrame'>\n",
      "RangeIndex: 748 entries, 0 to 747\n",
      "Data columns (total 2 columns):\n",
      "msg         748 non-null object\n",
      "positive    748 non-null int64\n",
      "dtypes: int64(1), object(1)\n",
      "memory usage: 11.8+ KB\n"
     ]
    }
   ],
   "source": [
    "#Informações sobre a base de dados:\n",
    "df.info()"
   ]
  },
  {
   "cell_type": "code",
   "execution_count": 5,
   "metadata": {
    "ExecuteTime": {
     "end_time": "2020-02-17T01:23:53.204206Z",
     "start_time": "2020-02-17T01:23:53.175882Z"
    }
   },
   "outputs": [
    {
     "data": {
      "text/plain": [
       "\"The rest of the movie lacks art, charm, meaning... If it's about emptiness, it works I guess because it's empty.  \""
      ]
     },
     "execution_count": 5,
     "metadata": {},
     "output_type": "execute_result"
    }
   ],
   "source": [
    "#Exemplo de comentário feito sobre um filme:\n",
    "df.msg[5]"
   ]
  },
  {
   "cell_type": "code",
   "execution_count": 6,
   "metadata": {
    "ExecuteTime": {
     "end_time": "2020-02-17T01:23:54.028210Z",
     "start_time": "2020-02-17T01:23:53.992284Z"
    }
   },
   "outputs": [
    {
     "data": {
      "text/plain": [
       "1    386\n",
       "0    362\n",
       "Name: positive, dtype: int64"
      ]
     },
     "execution_count": 6,
     "metadata": {},
     "output_type": "execute_result"
    }
   ],
   "source": [
    "#Distribuição de filmes avalidados positivamente(1) e negativamente(0)\n",
    "df['positive'].value_counts()"
   ]
  },
  {
   "cell_type": "markdown",
   "metadata": {},
   "source": [
    "<h3>Tratando comentários</h3>"
   ]
  },
  {
   "cell_type": "code",
   "execution_count": 7,
   "metadata": {
    "ExecuteTime": {
     "end_time": "2020-02-17T01:23:55.793441Z",
     "start_time": "2020-02-17T01:23:55.785032Z"
    }
   },
   "outputs": [],
   "source": [
    "#Variáveis para o procedimento de Tokenização:\n",
    "numero_maximo_palavras = 1000\n",
    "sequencia_maxima_palavras = 100\n",
    "dimensao = 100"
   ]
  },
  {
   "cell_type": "code",
   "execution_count": 8,
   "metadata": {
    "ExecuteTime": {
     "end_time": "2020-02-17T01:23:56.619218Z",
     "start_time": "2020-02-17T01:23:56.567920Z"
    }
   },
   "outputs": [
    {
     "name": "stdout",
     "output_type": "stream",
     "text": [
      "Found 3236 unique tokens.\n"
     ]
    }
   ],
   "source": [
    "#Tokenizando:\n",
    "tokenizer = Tokenizer(num_words=numero_maximo_palavras, filters='!\"#$%&()*+,-./:;<=>?@[\\]^_`{|}~', lower=True)\n",
    "tokenizer.fit_on_texts(df['msg'].values)\n",
    "word_index = tokenizer.word_index\n",
    "print('Found %s unique tokens.' % len(word_index))"
   ]
  },
  {
   "cell_type": "code",
   "execution_count": 9,
   "metadata": {
    "ExecuteTime": {
     "end_time": "2020-02-17T01:23:58.128473Z",
     "start_time": "2020-02-17T01:23:58.088658Z"
    }
   },
   "outputs": [
    {
     "name": "stdout",
     "output_type": "stream",
     "text": [
      "Shape of data tensor: (748, 100)\n"
     ]
    }
   ],
   "source": [
    "#Verificando o shape do Tensor:\n",
    "X = tokenizer.texts_to_sequences(df['msg'].values)\n",
    "X = pad_sequences(X, maxlen=sequencia_maxima_palavras)\n",
    "Y = df['positive'].values\n",
    "print('Shape of data tensor:', X.shape)"
   ]
  },
  {
   "cell_type": "markdown",
   "metadata": {},
   "source": [
    "<h3>Preparando dados de Treino e Teste</h3>"
   ]
  },
  {
   "cell_type": "code",
   "execution_count": 10,
   "metadata": {
    "ExecuteTime": {
     "end_time": "2020-02-17T01:23:58.834614Z",
     "start_time": "2020-02-17T01:23:58.825434Z"
    }
   },
   "outputs": [
    {
     "name": "stdout",
     "output_type": "stream",
     "text": [
      "(598, 100) (598,)\n",
      "(150, 100) (150,)\n"
     ]
    }
   ],
   "source": [
    "#test_size:\n",
    "ts = 0.20\n",
    "#random_state:\n",
    "rs = 100\n",
    "#Separando os dados de treino e teste:\n",
    "X_train, X_test, Y_train, Y_test = train_test_split(X,Y, test_size = ts,random_state = rs)\n",
    "#Printando resultados:\n",
    "print(X_train.shape,Y_train.shape)\n",
    "print(X_test.shape,Y_test.shape)"
   ]
  },
  {
   "cell_type": "markdown",
   "metadata": {},
   "source": [
    "<h3>Rodando os modelos</h3>"
   ]
  },
  {
   "cell_type": "code",
   "execution_count": 38,
   "metadata": {
    "ExecuteTime": {
     "end_time": "2020-02-17T01:37:35.889574Z",
     "start_time": "2020-02-17T01:37:35.876302Z"
    }
   },
   "outputs": [],
   "source": [
    "#Parâmetros:\n",
    "epochs = 20\n",
    "batch_size = 32\n",
    "patience = 3\n",
    "vs=0.1\n",
    "md = 0.0001\n",
    "monitor = 'val_loss'\n",
    "optimizer = 'adam'    "
   ]
  },
  {
   "cell_type": "code",
   "execution_count": 41,
   "metadata": {
    "ExecuteTime": {
     "end_time": "2020-02-17T01:38:14.276708Z",
     "start_time": "2020-02-17T01:38:13.835999Z"
    }
   },
   "outputs": [],
   "source": [
    "%%capture --no-stdout\n",
    "#Modelo LSTM:\n",
    "modelLSTM = Sequential()\n",
    "modelLSTM.add(Embedding(numero_maximo_palavras, dimensao, input_length=X.shape[1]))\n",
    "modelLSTM.add(SpatialDropout1D(0.1))\n",
    "modelLSTM.add(LSTM(100, dropout=0.2, recurrent_dropout=0.2))\n",
    "modelLSTM.add(Dense(10, activation='sigmoid'))\n",
    "modelLSTM.add(Dense(1, activation='sigmoid'))\n",
    "# modelLSTM.add(Dense(1, activation='relu'))\n",
    "modelLSTM.compile(loss='binary_crossentropy', optimizer='adam', metrics=['accuracy'])"
   ]
  },
  {
   "cell_type": "code",
   "execution_count": 42,
   "metadata": {
    "ExecuteTime": {
     "end_time": "2020-02-17T01:39:21.351873Z",
     "start_time": "2020-02-17T01:38:15.145423Z"
    }
   },
   "outputs": [
    {
     "name": "stderr",
     "output_type": "stream",
     "text": [
      "/home/franklin/anaconda3/lib/python3.7/site-packages/tensorflow_core/python/framework/indexed_slices.py:424: UserWarning: Converting sparse IndexedSlices to a dense Tensor of unknown shape. This may consume a large amount of memory.\n",
      "  \"Converting sparse IndexedSlices to a dense Tensor of unknown shape. \"\n"
     ]
    },
    {
     "name": "stdout",
     "output_type": "stream",
     "text": [
      "Train on 538 samples, validate on 60 samples\n",
      "Epoch 1/20\n",
      "538/538 [==============================] - 9s 17ms/step - loss: 0.7546 - accuracy: 0.5223 - val_loss: 0.6905 - val_accuracy: 0.5167\n",
      "Epoch 2/20\n",
      "538/538 [==============================] - 6s 11ms/step - loss: 0.6907 - accuracy: 0.5558 - val_loss: 0.7037 - val_accuracy: 0.4833\n",
      "Epoch 3/20\n",
      "538/538 [==============================] - 6s 12ms/step - loss: 0.6838 - accuracy: 0.5390 - val_loss: 0.6843 - val_accuracy: 0.5667\n",
      "Epoch 4/20\n",
      "538/538 [==============================] - 6s 12ms/step - loss: 0.6671 - accuracy: 0.6171 - val_loss: 0.6835 - val_accuracy: 0.4833\n",
      "Epoch 5/20\n",
      "538/538 [==============================] - 5s 10ms/step - loss: 0.6303 - accuracy: 0.6171 - val_loss: 0.6384 - val_accuracy: 0.6000\n",
      "Epoch 6/20\n",
      "538/538 [==============================] - 7s 12ms/step - loss: 0.5265 - accuracy: 0.7844 - val_loss: 0.5844 - val_accuracy: 0.7167\n",
      "Epoch 7/20\n",
      "538/538 [==============================] - 6s 12ms/step - loss: 0.4300 - accuracy: 0.8625 - val_loss: 0.5489 - val_accuracy: 0.7667\n",
      "Epoch 8/20\n",
      "538/538 [==============================] - 6s 11ms/step - loss: 0.3552 - accuracy: 0.9071 - val_loss: 0.5630 - val_accuracy: 0.7333\n",
      "Epoch 9/20\n",
      "538/538 [==============================] - 6s 11ms/step - loss: 0.3025 - accuracy: 0.9312 - val_loss: 0.5585 - val_accuracy: 0.7333\n",
      "Epoch 10/20\n",
      "538/538 [==============================] - 6s 12ms/step - loss: 0.2609 - accuracy: 0.9610 - val_loss: 0.5819 - val_accuracy: 0.6833\n"
     ]
    }
   ],
   "source": [
    "#Aprendizado LSTM:\n",
    "historyLSTM = modelLSTM.fit(X_train, Y_train, epochs=epochs, batch_size=batch_size,validation_split=vs,callbacks=[EarlyStopping(monitor=monitor, patience=patience, min_delta=md)])"
   ]
  },
  {
   "cell_type": "code",
   "execution_count": 43,
   "metadata": {
    "ExecuteTime": {
     "end_time": "2020-02-17T01:39:25.023588Z",
     "start_time": "2020-02-17T01:39:24.087932Z"
    }
   },
   "outputs": [
    {
     "data": {
      "image/png": "[encoded data removed]",
      "text/plain": [
       "<Figure size 432x288 with 1 Axes>"
      ]
     },
     "metadata": {
      "needs_background": "light"
     },
     "output_type": "display_data"
    }
   ],
   "source": [
    "#Curva de Loss do treino e do teste:\n",
    "plt.title('Loss')\n",
    "plt.plot(historyLSTM.history['loss'], label='train')\n",
    "plt.plot(historyLSTM.history['val_loss'], label='test')\n",
    "plt.legend()\n",
    "plt.show();"
   ]
  },
  {
   "cell_type": "code",
   "execution_count": 44,
   "metadata": {
    "ExecuteTime": {
     "end_time": "2020-02-17T01:39:56.165460Z",
     "start_time": "2020-02-17T01:39:55.952321Z"
    }
   },
   "outputs": [
    {
     "data": {
      "image/png": "[encoded data removed]",
      "text/plain": [
       "<Figure size 432x288 with 1 Axes>"
      ]
     },
     "metadata": {
      "needs_background": "light"
     },
     "output_type": "display_data"
    }
   ],
   "source": [
    "# Accuracy in and out sample\n",
    "plt.title('Accuracy')\n",
    "plt.plot(historyLSTM.history['accuracy'], label='train')\n",
    "plt.plot(historyLSTM.history['val_accuracy'], label='test')\n",
    "plt.xlabel('epochs')\n",
    "plt.legend()\n",
    "plt.show();"
   ]
  },
  {
   "cell_type": "markdown",
   "metadata": {},
   "source": [
    "### GRU"
   ]
  },
  {
   "cell_type": "code",
   "execution_count": 17,
   "metadata": {
    "ExecuteTime": {
     "end_time": "2020-02-17T01:29:14.367038Z",
     "start_time": "2020-02-17T01:29:14.362362Z"
    }
   },
   "outputs": [],
   "source": [
    "#Parâmetros:\n",
    "epochs = 15\n",
    "batch_size = 32\n",
    "patience = 3\n",
    "vs=0.1\n",
    "md = 0.0001\n",
    "monitor = 'val_loss'"
   ]
  },
  {
   "cell_type": "code",
   "execution_count": 35,
   "metadata": {
    "ExecuteTime": {
     "end_time": "2020-02-17T01:35:35.163253Z",
     "start_time": "2020-02-17T01:35:34.726602Z"
    }
   },
   "outputs": [],
   "source": [
    "%%capture --no-stdout\n",
    "#Modelo GRU:\n",
    "modelGRU = Sequential()\n",
    "modelGRU.add(Embedding(numero_maximo_palavras, dimensao, input_length=X.shape[1]))\n",
    "modelGRU.add(SpatialDropout1D(0.1))\n",
    "\n",
    "modelGRU.add(GRU(100, dropout=0.1, recurrent_dropout=0.2))\n",
    "modelGRU.add(Dense(10, activation='sigmoid'))\n",
    "modelGRU.add(Dense(1, activation='sigmoid'))\n",
    "# modelGRU.add(Dense(1, activation='relu'))\n",
    "\n",
    "modelGRU.compile(loss='binary_crossentropy', optimizer='adam', metrics=['accuracy'])"
   ]
  },
  {
   "cell_type": "code",
   "execution_count": 36,
   "metadata": {
    "ExecuteTime": {
     "end_time": "2020-02-17T01:36:40.963491Z",
     "start_time": "2020-02-17T01:35:35.921033Z"
    }
   },
   "outputs": [
    {
     "name": "stderr",
     "output_type": "stream",
     "text": [
      "/home/franklin/anaconda3/lib/python3.7/site-packages/tensorflow_core/python/framework/indexed_slices.py:424: UserWarning: Converting sparse IndexedSlices to a dense Tensor of unknown shape. This may consume a large amount of memory.\n",
      "  \"Converting sparse IndexedSlices to a dense Tensor of unknown shape. \"\n"
     ]
    },
    {
     "name": "stdout",
     "output_type": "stream",
     "text": [
      "Train on 538 samples, validate on 60 samples\n",
      "Epoch 1/15\n",
      "538/538 [==============================] - 11s 20ms/step - loss: 0.6900 - accuracy: 0.5335 - val_loss: 0.6936 - val_accuracy: 0.4833\n",
      "Epoch 2/15\n",
      "538/538 [==============================] - 8s 14ms/step - loss: 0.6774 - accuracy: 0.5874 - val_loss: 0.6807 - val_accuracy: 0.5333\n",
      "Epoch 3/15\n",
      "538/538 [==============================] - 7s 13ms/step - loss: 0.6198 - accuracy: 0.7230 - val_loss: 0.6406 - val_accuracy: 0.6000\n",
      "Epoch 4/15\n",
      "538/538 [==============================] - 7s 13ms/step - loss: 0.5045 - accuracy: 0.7918 - val_loss: 0.5728 - val_accuracy: 0.7167\n",
      "Epoch 5/15\n",
      "538/538 [==============================] - 7s 14ms/step - loss: 0.3909 - accuracy: 0.8680 - val_loss: 0.5417 - val_accuracy: 0.7667\n",
      "Epoch 6/15\n",
      "538/538 [==============================] - 8s 15ms/step - loss: 0.2964 - accuracy: 0.9164 - val_loss: 0.5503 - val_accuracy: 0.7333\n",
      "Epoch 7/15\n",
      "538/538 [==============================] - 7s 14ms/step - loss: 0.2456 - accuracy: 0.9480 - val_loss: 0.5788 - val_accuracy: 0.7167\n",
      "Epoch 8/15\n",
      "538/538 [==============================] - 8s 14ms/step - loss: 0.2293 - accuracy: 0.9461 - val_loss: 0.6100 - val_accuracy: 0.6667\n"
     ]
    }
   ],
   "source": [
    "#Aprendizado GRU:\n",
    "historyGRU = modelGRU.fit(X_train, Y_train, epochs=epochs, batch_size=batch_size,validation_split=vs,callbacks=[EarlyStopping(monitor=monitor, patience=patience, min_delta=md)])"
   ]
  },
  {
   "cell_type": "code",
   "execution_count": 37,
   "metadata": {
    "ExecuteTime": {
     "end_time": "2020-02-17T01:36:45.015155Z",
     "start_time": "2020-02-17T01:36:44.154795Z"
    }
   },
   "outputs": [
    {
     "data": {
      "image/png": "[encoded data removed]",
      "text/plain": [
       "<Figure size 432x288 with 1 Axes>"
      ]
     },
     "metadata": {
      "needs_background": "light"
     },
     "output_type": "display_data"
    }
   ],
   "source": [
    "#Curva de Loss do treino e do teste:\n",
    "plt.title('Loss')\n",
    "plt.plot(historyGRU.history['loss'], label='train')\n",
    "plt.plot(historyGRU.history['val_loss'], label='test')\n",
    "plt.legend()\n",
    "plt.show();"
   ]
  },
  {
   "cell_type": "code",
   "execution_count": 45,
   "metadata": {
    "ExecuteTime": {
     "end_time": "2020-02-17T01:40:19.684772Z",
     "start_time": "2020-02-17T01:40:19.461534Z"
    }
   },
   "outputs": [
    {
     "data": {
      "image/png": "[encoded data removed]",
      "text/plain": [
       "<Figure size 432x288 with 1 Axes>"
      ]
     },
     "metadata": {
      "needs_background": "light"
     },
     "output_type": "display_data"
    }
   ],
   "source": [
    "# Accuracy in and out sample\n",
    "plt.title('Accuracy')\n",
    "plt.plot(historyGRU.history['accuracy'], label='train')\n",
    "plt.plot(historyGRU.history['val_accuracy'], label='test')\n",
    "plt.xlabel('epochs')\n",
    "plt.legend()\n",
    "plt.show();"
   ]
  },
  {
   "cell_type": "code",
   "execution_count": null,
   "metadata": {},
   "outputs": [],
   "source": []
  }
 ],
 "metadata": {
  "kernelspec": {
   "display_name": "Python 3",
   "language": "python",
   "name": "python3"
  },
  "language_info": {
   "codemirror_mode": {
    "name": "ipython",
    "version": 3
   },
   "file_extension": ".py",
   "mimetype": "text/x-python",
   "name": "python",
   "nbconvert_exporter": "python",
   "pygments_lexer": "ipython3",
   "version": "3.7.4"
  },
  "toc": {
   "base_numbering": 1,
   "nav_menu": {},
   "number_sections": false,
   "sideBar": true,
   "skip_h1_title": false,
   "title_cell": "Table of Contents",
   "title_sidebar": "Contents",
   "toc_cell": false,
   "toc_position": {},
   "toc_section_display": true,
   "toc_window_display": false
  },
  "varInspector": {
   "cols": {
    "lenName": 16,
    "lenType": 16,
    "lenVar": 40
   },
   "kernels_config": {
    "python": {
     "delete_cmd_postfix": "",
     "delete_cmd_prefix": "del ",
     "library": "var_list.py",
     "varRefreshCmd": "print(var_dic_list())"
    },
    "r": {
     "delete_cmd_postfix": ") ",
     "delete_cmd_prefix": "rm(",
     "library": "var_list.r",
     "varRefreshCmd": "cat(var_dic_list()) "
    }
   },
   "types_to_exclude": [
    "module",
    "function",
    "builtin_function_or_method",
    "instance",
    "_Feature"
   ],
   "window_display": false
  }
 },
 "nbformat": 4,
 "nbformat_minor": 2
}
