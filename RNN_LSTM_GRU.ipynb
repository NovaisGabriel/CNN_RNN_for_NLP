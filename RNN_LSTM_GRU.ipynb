{
 "cells": [
  {
   "cell_type": "markdown",
   "metadata": {},
   "source": [
    "<h1>RNN - LSTM x GRU</h1>\n",
    "<p>O objetivo deste código é apresentar um exemplo simples de aplicação de redes neurais recorrentes (RNN) para a análise de textos (NLP). Neste caso, vamos aplicar deep learning para obter a partir do comentário realizado a cerca de um deteminado filme se este comentário foi ou não positivo. Os dados foram retirados do IMDB, e cujo link segue abaixo: </p>\n",
    "<p><a href=\"https://archive.ics.uci.edu/ml/datasets/Sentiment+Labelled+Sentences\">Dados de comentários sobre IMDB</a></p>\n",
    "\n",
    "<p>Vale observar que como são dados utilizados justamente para testes então eles costumam vir já pré-processados de maneira que não é necessário fazer limpezas nos comentários, excluindo por exmeplo caracteres errados ou símbolos. O que será feito é justamente o procedimento de tokenização para depois aplicar os métodos de LSTM e GRU. </p>"
   ]
  },
  {
   "cell_type": "markdown",
   "metadata": {},
   "source": [
    "<h3>Importando Pacotes</h3>"
   ]
  },
  {
   "cell_type": "code",
   "execution_count": 1,
   "metadata": {},
   "outputs": [
    {
     "name": "stderr",
     "output_type": "stream",
     "text": [
      "Using TensorFlow backend.\n"
     ]
    }
   ],
   "source": [
    "import numpy as np\n",
    "import pandas as pd\n",
    "import matplotlib.pyplot as plt\n",
    "import keras\n",
    "\n",
    "from keras.preprocessing.text import Tokenizer\n",
    "from keras.preprocessing.sequence import pad_sequences\n",
    "from sklearn.model_selection import train_test_split\n",
    "from keras.models import Sequential\n",
    "from keras.layers import Dense, Activation,SpatialDropout1D,Embedding,LSTM,GRU\n",
    "from keras.callbacks import EarlyStopping"
   ]
  },
  {
   "cell_type": "markdown",
   "metadata": {},
   "source": [
    "<h3>Importando dados do IMDB</h3>"
   ]
  },
  {
   "cell_type": "code",
   "execution_count": 2,
   "metadata": {},
   "outputs": [
    {
     "name": "stderr",
     "output_type": "stream",
     "text": [
      "/home/novais/anaconda3/lib/python3.7/site-packages/ipykernel_launcher.py:1: FutureWarning: read_table is deprecated, use read_csv instead, passing sep='\\t'.\n",
      "  \"\"\"Entry point for launching an IPython kernel.\n"
     ]
    },
    {
     "data": {
      "text/html": [
       "<div>\n",
       "<style scoped>\n",
       "    .dataframe tbody tr th:only-of-type {\n",
       "        vertical-align: middle;\n",
       "    }\n",
       "\n",
       "    .dataframe tbody tr th {\n",
       "        vertical-align: top;\n",
       "    }\n",
       "\n",
       "    .dataframe thead th {\n",
       "        text-align: right;\n",
       "    }\n",
       "</style>\n",
       "<table border=\"1\" class=\"dataframe\">\n",
       "  <thead>\n",
       "    <tr style=\"text-align: right;\">\n",
       "      <th></th>\n",
       "      <th>msg</th>\n",
       "      <th>positive</th>\n",
       "    </tr>\n",
       "  </thead>\n",
       "  <tbody>\n",
       "    <tr>\n",
       "      <th>0</th>\n",
       "      <td>A very, very, very slow-moving, aimless movie ...</td>\n",
       "      <td>0</td>\n",
       "    </tr>\n",
       "    <tr>\n",
       "      <th>1</th>\n",
       "      <td>Not sure who was more lost - the flat characte...</td>\n",
       "      <td>0</td>\n",
       "    </tr>\n",
       "    <tr>\n",
       "      <th>2</th>\n",
       "      <td>Attempting artiness with black &amp; white and cle...</td>\n",
       "      <td>0</td>\n",
       "    </tr>\n",
       "    <tr>\n",
       "      <th>3</th>\n",
       "      <td>Very little music or anything to speak of.</td>\n",
       "      <td>0</td>\n",
       "    </tr>\n",
       "    <tr>\n",
       "      <th>4</th>\n",
       "      <td>The best scene in the movie was when Gerardo i...</td>\n",
       "      <td>1</td>\n",
       "    </tr>\n",
       "  </tbody>\n",
       "</table>\n",
       "</div>"
      ],
      "text/plain": [
       "                                                 msg  positive\n",
       "0  A very, very, very slow-moving, aimless movie ...         0\n",
       "1  Not sure who was more lost - the flat characte...         0\n",
       "2  Attempting artiness with black & white and cle...         0\n",
       "3       Very little music or anything to speak of.           0\n",
       "4  The best scene in the movie was when Gerardo i...         1"
      ]
     },
     "execution_count": 2,
     "metadata": {},
     "output_type": "execute_result"
    }
   ],
   "source": [
    "df = pd.read_table('imdb.txt', header=0)\n",
    "df.head()"
   ]
  },
  {
   "cell_type": "code",
   "execution_count": 3,
   "metadata": {},
   "outputs": [
    {
     "name": "stdout",
     "output_type": "stream",
     "text": [
      "<class 'pandas.core.frame.DataFrame'>\n",
      "RangeIndex: 748 entries, 0 to 747\n",
      "Data columns (total 2 columns):\n",
      "msg         748 non-null object\n",
      "positive    748 non-null int64\n",
      "dtypes: int64(1), object(1)\n",
      "memory usage: 11.8+ KB\n"
     ]
    }
   ],
   "source": [
    "#Informações sobre a base de dados:\n",
    "df.info()"
   ]
  },
  {
   "cell_type": "code",
   "execution_count": 4,
   "metadata": {},
   "outputs": [
    {
     "data": {
      "text/plain": [
       "\"The rest of the movie lacks art, charm, meaning... If it's about emptiness, it works I guess because it's empty.  \""
      ]
     },
     "execution_count": 4,
     "metadata": {},
     "output_type": "execute_result"
    }
   ],
   "source": [
    "#Exemplo de comentário feito sobre um filme:\n",
    "df.msg[5]"
   ]
  },
  {
   "cell_type": "code",
   "execution_count": 5,
   "metadata": {},
   "outputs": [
    {
     "data": {
      "text/plain": [
       "1    386\n",
       "0    362\n",
       "Name: positive, dtype: int64"
      ]
     },
     "execution_count": 5,
     "metadata": {},
     "output_type": "execute_result"
    }
   ],
   "source": [
    "#Distribuição de filmes avalidados positivamente(1) e negativamente(0)\n",
    "df['positive'].value_counts()"
   ]
  },
  {
   "cell_type": "markdown",
   "metadata": {},
   "source": [
    "<h3>Tratando comentários</h3>"
   ]
  },
  {
   "cell_type": "code",
   "execution_count": 6,
   "metadata": {},
   "outputs": [],
   "source": [
    "#Variáveis para o procedimento de Tokenização:\n",
    "numero_maximo_palavras = 1000\n",
    "sequencia_maxima_palavras = 100\n",
    "dimensao = 100"
   ]
  },
  {
   "cell_type": "code",
   "execution_count": 7,
   "metadata": {},
   "outputs": [
    {
     "name": "stdout",
     "output_type": "stream",
     "text": [
      "Found 3236 unique tokens.\n"
     ]
    }
   ],
   "source": [
    "#Tokenizando:\n",
    "tokenizer = Tokenizer(num_words=numero_maximo_palavras, filters='!\"#$%&()*+,-./:;<=>?@[\\]^_`{|}~', lower=True)\n",
    "tokenizer.fit_on_texts(df['msg'].values)\n",
    "word_index = tokenizer.word_index\n",
    "print('Found %s unique tokens.' % len(word_index))"
   ]
  },
  {
   "cell_type": "code",
   "execution_count": 8,
   "metadata": {},
   "outputs": [
    {
     "name": "stdout",
     "output_type": "stream",
     "text": [
      "Shape of data tensor: (748, 100)\n"
     ]
    }
   ],
   "source": [
    "#Verificando o shape do Tensor:\n",
    "X = tokenizer.texts_to_sequences(df['msg'].values)\n",
    "X = pad_sequences(X, maxlen=sequencia_maxima_palavras)\n",
    "Y = df['positive'].values\n",
    "print('Shape of data tensor:', X.shape)"
   ]
  },
  {
   "cell_type": "markdown",
   "metadata": {},
   "source": [
    "<h3>Preparando dados de Treino e Teste</h3>"
   ]
  },
  {
   "cell_type": "code",
   "execution_count": 9,
   "metadata": {},
   "outputs": [
    {
     "name": "stdout",
     "output_type": "stream",
     "text": [
      "(598, 100) (598,)\n",
      "(150, 100) (150,)\n"
     ]
    }
   ],
   "source": [
    "#test_size:\n",
    "ts = 0.20\n",
    "#random_state:\n",
    "rs = 100\n",
    "#Separando os dados de treino e teste:\n",
    "X_train, X_test, Y_train, Y_test = train_test_split(X,Y, test_size = ts,random_state = rs)\n",
    "#Printando resultados:\n",
    "print(X_train.shape,Y_train.shape)\n",
    "print(X_test.shape,Y_test.shape)"
   ]
  },
  {
   "cell_type": "markdown",
   "metadata": {},
   "source": [
    "<h3>Rodando os modelos</h3>"
   ]
  },
  {
   "cell_type": "code",
   "execution_count": 10,
   "metadata": {},
   "outputs": [],
   "source": [
    "#Parâmetros:\n",
    "epochs = 20\n",
    "batch_size = 10\n",
    "patience = 3\n",
    "vs=0.1\n",
    "md = 0.0001\n",
    "monitor = 'val_loss'"
   ]
  },
  {
   "cell_type": "code",
   "execution_count": 17,
   "metadata": {},
   "outputs": [],
   "source": [
    "%%capture --no-stdout\n",
    "#Modelo LSTM:\n",
    "modelLSTM = Sequential()\n",
    "modelLSTM.add(Embedding(numero_maximo_palavras, dimensao, input_length=X.shape[1]))\n",
    "modelLSTM.add(SpatialDropout1D(0.1))\n",
    "modelLSTM.add(LSTM(100, dropout=0.2, recurrent_dropout=0.2))\n",
    "modelLSTM.add(Dense(1, activation='relu'))\n",
    "modelLSTM.add(Dense(1, activation='relu'))\n",
    "modelLSTM.add(Dense(1, activation='relu'))\n",
    "modelLSTM.compile(loss='binary_crossentropy', optimizer='adam', metrics=['accuracy'])"
   ]
  },
  {
   "cell_type": "code",
   "execution_count": 12,
   "metadata": {},
   "outputs": [
    {
     "name": "stdout",
     "output_type": "stream",
     "text": [
      "Train on 538 samples, validate on 60 samples\n",
      "Epoch 1/20\n",
      "538/538 [==============================] - 9s 17ms/step - loss: 1.1537 - acc: 0.4796 - val_loss: 0.7202 - val_acc: 0.4667\n",
      "Epoch 2/20\n",
      "538/538 [==============================] - 6s 12ms/step - loss: 0.6689 - acc: 0.5688 - val_loss: 0.6534 - val_acc: 0.7167\n",
      "Epoch 3/20\n",
      "538/538 [==============================] - 6s 12ms/step - loss: 0.5582 - acc: 0.7565 - val_loss: 0.5460 - val_acc: 0.7000\n",
      "Epoch 4/20\n",
      "538/538 [==============================] - 6s 12ms/step - loss: 0.3709 - acc: 0.8662 - val_loss: 0.7682 - val_acc: 0.7167\n",
      "Epoch 5/20\n",
      "538/538 [==============================] - 6s 12ms/step - loss: 0.2534 - acc: 0.8197 - val_loss: 0.8059 - val_acc: 0.6833\n",
      "Epoch 6/20\n",
      "538/538 [==============================] - 6s 12ms/step - loss: 0.1797 - acc: 0.6952 - val_loss: 1.0700 - val_acc: 0.6667\n"
     ]
    }
   ],
   "source": [
    "#Aprendizado LSTM:\n",
    "historyLSTM = modelLSTM.fit(X_train, Y_train, epochs=epochs, batch_size=batch_size,validation_split=vs,callbacks=[EarlyStopping(monitor=monitor, patience=patience, min_delta=md)])"
   ]
  },
  {
   "cell_type": "code",
   "execution_count": 14,
   "metadata": {},
   "outputs": [
    {
     "data": {
      "image/png": "[encoded data removed]",
      "text/plain": [
       "<Figure size 432x288 with 1 Axes>"
      ]
     },
     "metadata": {
      "needs_background": "light"
     },
     "output_type": "display_data"
    }
   ],
   "source": [
    "#Curva de Loss do treino e do teste:\n",
    "plt.title('Loss')\n",
    "plt.plot(historyLSTM.history['loss'], label='train')\n",
    "plt.plot(historyLSTM.history['val_loss'], label='test')\n",
    "plt.legend()\n",
    "plt.show();"
   ]
  },
  {
   "cell_type": "code",
   "execution_count": 29,
   "metadata": {},
   "outputs": [],
   "source": [
    "#Parâmetros:\n",
    "epochs = 15\n",
    "batch_size = 10\n",
    "patience = 3\n",
    "vs=0.1\n",
    "md = 0.0001\n",
    "monitor = 'val_loss'"
   ]
  },
  {
   "cell_type": "code",
   "execution_count": 30,
   "metadata": {},
   "outputs": [],
   "source": [
    "%%capture --no-stdout\n",
    "#Modelo GRU:\n",
    "modelGRU = Sequential()\n",
    "modelGRU.add(Embedding(numero_maximo_palavras, dimensao, input_length=X.shape[1]))\n",
    "modelGRU.add(SpatialDropout1D(0.1))\n",
    "modelGRU.add(GRU(100, dropout=0.2, recurrent_dropout=0.2))\n",
    "modelGRU.add(Dense(1, activation='relu'))\n",
    "modelGRU.add(Dense(1, activation='relu'))\n",
    "modelGRU.add(Dense(1, activation='relu'))\n",
    "modelGRU.compile(loss='binary_crossentropy', optimizer='adam', metrics=['accuracy'])"
   ]
  },
  {
   "cell_type": "code",
   "execution_count": 31,
   "metadata": {},
   "outputs": [
    {
     "name": "stdout",
     "output_type": "stream",
     "text": [
      "Train on 538 samples, validate on 60 samples\n",
      "Epoch 1/15\n",
      "538/538 [==============================] - 9s 16ms/step - loss: 0.8883 - acc: 0.5353 - val_loss: 0.6390 - val_acc: 0.6500\n",
      "Epoch 2/15\n",
      "538/538 [==============================] - 5s 10ms/step - loss: 0.5269 - acc: 0.7732 - val_loss: 0.5527 - val_acc: 0.7667\n",
      "Epoch 3/15\n",
      "538/538 [==============================] - 6s 11ms/step - loss: 0.3637 - acc: 0.8717 - val_loss: 0.5968 - val_acc: 0.7500\n",
      "Epoch 4/15\n",
      "538/538 [==============================] - 6s 11ms/step - loss: 0.1923 - acc: 0.8401 - val_loss: 1.1242 - val_acc: 0.6667\n",
      "Epoch 5/15\n",
      "538/538 [==============================] - 6s 10ms/step - loss: 0.1431 - acc: 0.7825 - val_loss: 1.4650 - val_acc: 0.6000\n"
     ]
    }
   ],
   "source": [
    "#Aprendizado GRU:\n",
    "historyGRU = modelGRU.fit(X_train, Y_train, epochs=epochs, batch_size=batch_size,validation_split=vs,callbacks=[EarlyStopping(monitor=monitor, patience=patience, min_delta=md)])"
   ]
  },
  {
   "cell_type": "code",
   "execution_count": 32,
   "metadata": {},
   "outputs": [
    {
     "data": {
      "image/png": "[encoded data removed]",
      "text/plain": [
       "<Figure size 432x288 with 1 Axes>"
      ]
     },
     "metadata": {
      "needs_background": "light"
     },
     "output_type": "display_data"
    }
   ],
   "source": [
    "#Curva de Loss do treino e do teste:\n",
    "plt.title('Loss')\n",
    "plt.plot(historyGRU.history['loss'], label='train')\n",
    "plt.plot(historyGRU.history['val_loss'], label='test')\n",
    "plt.legend()\n",
    "plt.show();"
   ]
  }
 ],
 "metadata": {
  "kernelspec": {
   "display_name": "Python 3",
   "language": "python",
   "name": "python3"
  },
  "language_info": {
   "codemirror_mode": {
    "name": "ipython",
    "version": 3
   },
   "file_extension": ".py",
   "mimetype": "text/x-python",
   "name": "python",
   "nbconvert_exporter": "python",
   "pygments_lexer": "ipython3",
   "version": "3.7.3"
  }
 },
 "nbformat": 4,
 "nbformat_minor": 2
}
