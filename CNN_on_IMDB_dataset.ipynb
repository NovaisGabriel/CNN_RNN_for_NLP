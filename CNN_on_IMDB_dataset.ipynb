{
 "cells": [
  {
   "cell_type": "markdown",
   "metadata": {},
   "source": [
    "# Applying Convolutional Neural Networks on IMDB Dataset\n",
    "\n",
    "**Authors:** Gabriel Novais and Franklin Oliveira   <br>\n",
    "**Main reference:** Tixier, Antoine J.-P. _Notes on Deep Learning for NLP_.  arXiv preprint arXiv:1808.09772 (2018).\n",
    "\n",
    "-----\n",
    "\n",
    "In this notebook, we'll apply CNNs on [IMDB dataset](https://archive.ics.uci.edu/ml/datasets/Sentiment+Labelled+Sentences) to do a classification task. Important comments regarding this application are presented below. \n",
    "\n",
    "> - **IMDB dataset:** This dataset was created for the Paper 'From Group to Individual Labels using Deep Features', Kotzias et. al,. KDD 2015 and is available in this [link](https://archive.ics.uci.edu/ml/datasets/Sentiment+Labelled+Sentences). <br>\n",
    "> It contains sentences labelled `\"positively\"` or `\"negatively\"`. The attributes are text sentences, extracted from reviews of products, movies, and restaurants.\n",
    "\n",
    "> - **Task:** We intend to do a classification task. Our model will classify each review as `positive` or `negative` based on attributes we provide as input.\n",
    "\n",
    "> - **Model:** In this example, we've chosen to apply Convolutional Neural Networks (CNNs) as we were required to apply Neural Networks in an NLP task as a final project of the Machine Learning Course of [EMAp/FGV](https://emap.fgv.br/). \n",
    "\n",
    "-----\n",
    "\n",
    "As usual, we'll begin by importing a few things here and there..."
   ]
  },
  {
   "cell_type": "code",
   "execution_count": 73,
   "metadata": {
    "ExecuteTime": {
     "end_time": "2020-02-11T22:07:07.755388Z",
     "start_time": "2020-02-11T22:07:07.747387Z"
    }
   },
   "outputs": [],
   "source": [
    "import string\n",
    "import warnings\n",
    "import numpy as np\n",
    "import pandas as pd\n",
    "# from nltk.corpus import stopwords  # stopwords\n",
    "\n",
    "# visualization packages\n",
    "import seaborn as sns\n",
    "import matplotlib.pyplot as plt\n",
    "\n",
    "# Scikit-Learn\n",
    "from sklearn.model_selection import train_test_split\n",
    "\n",
    "# keras\n",
    "from keras.models import Model, load_model                                       # models\n",
    "from keras.callbacks import EarlyStopping, ModelCheckpoint                       # callbacks\n",
    "from keras.preprocessing.text import Tokenizer                                   # preprocessing\n",
    "from keras.preprocessing.sequence import pad_sequences\n",
    "from keras.layers import Input, Embedding, Dropout, Conv1D, GlobalMaxPooling1D   # layers\n",
    "from keras.layers import Dense, Concatenate\n",
    "\n",
    "### Settings\n",
    "warnings.filterwarnings('ignore')    # filtering warnings to get cleaner outputs"
   ]
  },
  {
   "cell_type": "markdown",
   "metadata": {},
   "source": [
    "## Importing data"
   ]
  },
  {
   "cell_type": "code",
   "execution_count": 42,
   "metadata": {
    "ExecuteTime": {
     "end_time": "2020-02-11T21:28:45.618018Z",
     "start_time": "2020-02-11T21:28:45.602542Z"
    }
   },
   "outputs": [
    {
     "data": {
      "text/html": [
       "<div>\n",
       "<style scoped>\n",
       "    .dataframe tbody tr th:only-of-type {\n",
       "        vertical-align: middle;\n",
       "    }\n",
       "\n",
       "    .dataframe tbody tr th {\n",
       "        vertical-align: top;\n",
       "    }\n",
       "\n",
       "    .dataframe thead th {\n",
       "        text-align: right;\n",
       "    }\n",
       "</style>\n",
       "<table border=\"1\" class=\"dataframe\">\n",
       "  <thead>\n",
       "    <tr style=\"text-align: right;\">\n",
       "      <th></th>\n",
       "      <th>msg</th>\n",
       "      <th>positive</th>\n",
       "    </tr>\n",
       "  </thead>\n",
       "  <tbody>\n",
       "    <tr>\n",
       "      <td>0</td>\n",
       "      <td>A very, very, very slow-moving, aimless movie ...</td>\n",
       "      <td>0</td>\n",
       "    </tr>\n",
       "    <tr>\n",
       "      <td>1</td>\n",
       "      <td>Not sure who was more lost - the flat characte...</td>\n",
       "      <td>0</td>\n",
       "    </tr>\n",
       "    <tr>\n",
       "      <td>2</td>\n",
       "      <td>Attempting artiness with black &amp; white and cle...</td>\n",
       "      <td>0</td>\n",
       "    </tr>\n",
       "    <tr>\n",
       "      <td>3</td>\n",
       "      <td>Very little music or anything to speak of.</td>\n",
       "      <td>0</td>\n",
       "    </tr>\n",
       "    <tr>\n",
       "      <td>4</td>\n",
       "      <td>The best scene in the movie was when Gerardo i...</td>\n",
       "      <td>1</td>\n",
       "    </tr>\n",
       "  </tbody>\n",
       "</table>\n",
       "</div>"
      ],
      "text/plain": [
       "                                                 msg  positive\n",
       "0  A very, very, very slow-moving, aimless movie ...         0\n",
       "1  Not sure who was more lost - the flat characte...         0\n",
       "2  Attempting artiness with black & white and cle...         0\n",
       "3       Very little music or anything to speak of.           0\n",
       "4  The best scene in the movie was when Gerardo i...         1"
      ]
     },
     "execution_count": 42,
     "metadata": {},
     "output_type": "execute_result"
    }
   ],
   "source": [
    "df = pd.read_table('imdb.txt', header=0)\n",
    "df.head()"
   ]
  },
  {
   "cell_type": "markdown",
   "metadata": {},
   "source": [
    "As we can see in the cell above, our dataset is in a `pandas.dataframe`, with two columns:\n",
    "\n",
    "> - **msg:** Review text (full string). To work with this data, we'll need to tokenize, clean up a little bit and (maybe) stemmize.\n",
    "> - **positive:** Reviews polarization (classification). 1 for positive and 0 for negative reviews, respectively."
   ]
  },
  {
   "cell_type": "code",
   "execution_count": 43,
   "metadata": {
    "ExecuteTime": {
     "end_time": "2020-02-11T21:28:46.928924Z",
     "start_time": "2020-02-11T21:28:46.920313Z"
    }
   },
   "outputs": [
    {
     "name": "stdout",
     "output_type": "stream",
     "text": [
      "The dataset has 748 reviews.\n",
      "386 are classified as positive and 362 as negative.\n"
     ]
    }
   ],
   "source": [
    "print(f'The dataset has {df.shape[0]} reviews.')\n",
    "\n",
    "pos_rev = df[df['positive']==1].shape[0]\n",
    "neg_rev = df[df['positive']==0].shape[0]\n",
    "print(f'{pos_rev} are classified as positive and {neg_rev} as negative.')"
   ]
  },
  {
   "cell_type": "markdown",
   "metadata": {},
   "source": [
    "In the following cell, a sample review is printed. "
   ]
  },
  {
   "cell_type": "code",
   "execution_count": 44,
   "metadata": {
    "ExecuteTime": {
     "end_time": "2020-02-11T21:28:48.513573Z",
     "start_time": "2020-02-11T21:28:48.505567Z"
    }
   },
   "outputs": [
    {
     "name": "stdout",
     "output_type": "stream",
     "text": [
      "printing review number 447\n"
     ]
    },
    {
     "data": {
      "text/plain": [
       "\"This movie is so mind-bendingly awful, it couldn't have even been created.  \""
      ]
     },
     "execution_count": 44,
     "metadata": {},
     "output_type": "execute_result"
    }
   ],
   "source": [
    "n = np.random.randint(df.shape[0])     # randomly chooses a row to be displayed\n",
    "print(f'printing review number {n}')\n",
    "df['msg'].iloc[n]"
   ]
  },
  {
   "cell_type": "markdown",
   "metadata": {},
   "source": [
    "## Treating messages\n",
    "\n",
    "Now, let's take some tome to prepare our data. First, we'll tokenize all texts, remove special characters and lower all cases.\n",
    "\n",
    "As `Tixier (2017)` mentions, \n",
    "\n",
    "> \"Here, we don't remove any stopwords as some of them might be useful for classification ('but','not', etc.) and the model is supposed to be pretty robust to the presence of unpredictive features, as it automatically learns which features are the most discriminative.\""
   ]
  },
  {
   "cell_type": "code",
   "execution_count": 45,
   "metadata": {
    "ExecuteTime": {
     "end_time": "2020-02-11T21:28:49.796420Z",
     "start_time": "2020-02-11T21:28:49.790558Z"
    }
   },
   "outputs": [],
   "source": [
    "# defining parameters\n",
    "max_words = 1000   # to cut some very long reviews (just in case)\n",
    "max_seq_words = 100\n",
    "dimension = 100\n",
    "\n",
    "# sw = stopwords.words('english') + list(string.punctuation) # set of english stopwords + special characters"
   ]
  },
  {
   "cell_type": "code",
   "execution_count": 46,
   "metadata": {
    "ExecuteTime": {
     "end_time": "2020-02-11T21:28:58.040040Z",
     "start_time": "2020-02-11T21:28:57.996306Z"
    }
   },
   "outputs": [
    {
     "name": "stdout",
     "output_type": "stream",
     "text": [
      "Found 3180 unique tokens.\n"
     ]
    }
   ],
   "source": [
    "tokenizer = Tokenizer(num_words=max_words, filters=string.punctuation, lower=True)  # instance of tokenizer\n",
    "tokenizer.fit_on_texts(df['msg'].values)\n",
    "word_index = tokenizer.word_index\n",
    "print('Found %s unique tokens.' % len(word_index))"
   ]
  },
  {
   "cell_type": "markdown",
   "metadata": {},
   "source": [
    "## Truncation and padding\n",
    "\n",
    "As we are dealing with convolutional networks, we need to determine some spacial parameters, such as `padding`. \n",
    "\n",
    "We've already truncated reviews higher with more than `max_words` in the previous section."
   ]
  },
  {
   "cell_type": "code",
   "execution_count": 60,
   "metadata": {
    "ExecuteTime": {
     "end_time": "2020-02-11T21:49:53.507987Z",
     "start_time": "2020-02-11T21:49:53.464931Z"
    }
   },
   "outputs": [
    {
     "name": "stdout",
     "output_type": "stream",
     "text": [
      "Shape of data tensor: (748, 1000)\n"
     ]
    }
   ],
   "source": [
    "# checking tensor shape\n",
    "X = tokenizer.texts_to_sequences(df['msg'].values)\n",
    "X = pad_sequences(X, maxlen=max_words)         # padding  (max_words or max_seq_words?)\n",
    "Y = df['positive'].values\n",
    "print('Shape of data tensor:', X.shape)"
   ]
  },
  {
   "cell_type": "markdown",
   "metadata": {},
   "source": [
    "## Train_test_split"
   ]
  },
  {
   "cell_type": "code",
   "execution_count": 61,
   "metadata": {
    "ExecuteTime": {
     "end_time": "2020-02-11T21:50:10.856367Z",
     "start_time": "2020-02-11T21:50:10.839995Z"
    }
   },
   "outputs": [
    {
     "name": "stdout",
     "output_type": "stream",
     "text": [
      "X train shape: (598, 1000) \tY train shape: (598,)\n",
      "X test shape: (150, 1000) \tY test shape: (150,)\n"
     ]
    }
   ],
   "source": [
    "ts = 0.20       #test_size\n",
    "rs = 1995       #random_state\n",
    "\n",
    "# train_test_split\n",
    "X_train, X_test, Y_train, Y_test = train_test_split(X,Y, test_size = ts,random_state = rs)\n",
    "\n",
    "print('X train shape:', X_train.shape,'\\tY train shape:',Y_train.shape)\n",
    "print('X test shape:' ,X_test.shape,'\\tY test shape:', Y_test.shape)"
   ]
  },
  {
   "cell_type": "markdown",
   "metadata": {},
   "source": [
    "## Training CNNs\n",
    "\n",
    "Now we have our database ready for our Deep Learning model. First things first, let's set up a few things.\n",
    "\n",
    "### parameters"
   ]
  },
  {
   "cell_type": "code",
   "execution_count": 102,
   "metadata": {
    "ExecuteTime": {
     "end_time": "2020-02-11T22:51:35.301174Z",
     "start_time": "2020-02-11T22:51:35.294554Z"
    }
   },
   "outputs": [],
   "source": [
    "max_features = int(2e4)\n",
    "stpwd_thd = 1 \n",
    "max_size = 200\n",
    "word_vector_dim = int(3e2)\n",
    "do_static = False\n",
    "nb_filters = 150\n",
    "filter_size_a = 2\n",
    "filter_size_b = 3\n",
    "filter_size_c = 4\n",
    "drop_rate = 0.3\n",
    "batch_size = 32\n",
    "epochs = 10\n",
    "optimizer = 'adam'          # O QUE É?\n",
    "patience = 3"
   ]
  },
  {
   "cell_type": "markdown",
   "metadata": {},
   "source": [
    "### Structure presets\n",
    "\n",
    "<img src=\"https://github.com/Tixierae/deep_learning_NLP/raw/master/CNN_IMDB/cnn_illustration.png\" alt=\"Drawing\" style=\"width: 400px;\"/>\n",
    "\n",
    "We'll use the same structure of CNN presented in the picture."
   ]
  },
  {
   "cell_type": "code",
   "execution_count": 103,
   "metadata": {
    "ExecuteTime": {
     "end_time": "2020-02-11T22:51:40.477383Z",
     "start_time": "2020-02-11T22:51:39.921957Z"
    }
   },
   "outputs": [
    {
     "name": "stdout",
     "output_type": "stream",
     "text": [
      "branch A: 150 feature maps of size 199\n",
      "branch B: 150 feature maps of size 198\n",
      "model compiled\n"
     ]
    }
   ],
   "source": [
    "my_input = Input(shape=(max_words,)) # we leave the 2nd argument of shape blank because the Embedding layer cannot accept an input_shape argument\n",
    "\n",
    "embedding = Embedding(input_dim=max_features + 1,\n",
    "                      output_dim=word_vector_dim,\n",
    "                      trainable=not do_static,\n",
    "                      ) (my_input)\n",
    "\n",
    "embedding_dropped = Dropout(drop_rate)(embedding)\n",
    "\n",
    "# feature map size should be equal to max_size-filter_size+1\n",
    "# tensor shape after conv layer should be (feature map size, nb_filters)\n",
    "print('branch A:',nb_filters,'feature maps of size',max_size-filter_size_a+1)\n",
    "print('branch B:',nb_filters,'feature maps of size',max_size-filter_size_b+1)\n",
    "\n",
    "# part A (filter size=2)\n",
    "conv_a = Conv1D(filters = nb_filters,\n",
    "              kernel_size = filter_size_a,\n",
    "              activation = 'relu',\n",
    "              )(embedding_dropped)\n",
    "\n",
    "pooled_conv_a = GlobalMaxPooling1D()(conv_a)\n",
    "\n",
    "pooled_conv_dropped_a = Dropout(drop_rate)(pooled_conv_a)\n",
    "\n",
    "# part B (filter size=3)\n",
    "conv_b = Conv1D(filters = nb_filters,\n",
    "              kernel_size = filter_size_b,\n",
    "              activation = 'relu',\n",
    "              )(embedding_dropped)\n",
    "\n",
    "pooled_conv_b = GlobalMaxPooling1D()(conv_b)\n",
    "\n",
    "pooled_conv_dropped_b = Dropout(drop_rate)(pooled_conv_b)\n",
    "\n",
    "\n",
    "# part C (filter size=4)\n",
    "conv_c = Conv1D(filters = nb_filters,\n",
    "              kernel_size = filter_size_c,\n",
    "              activation = 'relu',\n",
    "              )(embedding_dropped)\n",
    "\n",
    "pooled_conv_c = GlobalMaxPooling1D()(conv_c)\n",
    "\n",
    "pooled_conv_dropped_c = Dropout(drop_rate)(pooled_conv_c)\n",
    "\n",
    "\n",
    "\n",
    "concat = Concatenate()([pooled_conv_dropped_a,pooled_conv_dropped_b, pooled_conv_dropped_c])\n",
    "\n",
    "concat_dropped = Dropout(drop_rate)(concat)\n",
    "\n",
    "\n",
    "# we finally project onto a single unit output layer with sigmoid activation\n",
    "prob = Dense(units = 1, # dimensionality of the output space\n",
    "             activation = 'sigmoid',\n",
    "             )(concat_dropped)\n",
    "\n",
    "model = Model(my_input, prob)\n",
    "\n",
    "model.compile(loss='binary_crossentropy',\n",
    "              optimizer = optimizer,\n",
    "              metrics = ['accuracy'])\n",
    "\n",
    "print('model compiled')"
   ]
  },
  {
   "cell_type": "markdown",
   "metadata": {},
   "source": [
    "### Training model"
   ]
  },
  {
   "cell_type": "code",
   "execution_count": 104,
   "metadata": {
    "ExecuteTime": {
     "end_time": "2020-02-11T22:57:27.192554Z",
     "start_time": "2020-02-11T22:51:44.773763Z"
    }
   },
   "outputs": [
    {
     "name": "stdout",
     "output_type": "stream",
     "text": [
      "Train on 598 samples, validate on 150 samples\n",
      "Epoch 1/10\n",
      "598/598 [==============================] - 38s 63ms/step - loss: 0.7000 - accuracy: 0.5033 - val_loss: 0.6887 - val_accuracy: 0.5333\n",
      "Epoch 2/10\n",
      "598/598 [==============================] - 35s 59ms/step - loss: 0.6648 - accuracy: 0.6254 - val_loss: 0.6758 - val_accuracy: 0.5733\n",
      "Epoch 3/10\n",
      "598/598 [==============================] - 34s 56ms/step - loss: 0.6153 - accuracy: 0.7258 - val_loss: 0.6577 - val_accuracy: 0.6200\n",
      "Epoch 4/10\n",
      "598/598 [==============================] - 34s 56ms/step - loss: 0.5356 - accuracy: 0.7742 - val_loss: 0.6189 - val_accuracy: 0.6467\n",
      "Epoch 5/10\n",
      "598/598 [==============================] - 34s 56ms/step - loss: 0.4135 - accuracy: 0.8612 - val_loss: 0.5445 - val_accuracy: 0.7267\n",
      "Epoch 6/10\n",
      "598/598 [==============================] - 33s 56ms/step - loss: 0.2750 - accuracy: 0.9247 - val_loss: 0.4845 - val_accuracy: 0.8000\n",
      "Epoch 7/10\n",
      "598/598 [==============================] - 33s 55ms/step - loss: 0.1841 - accuracy: 0.9565 - val_loss: 0.4730 - val_accuracy: 0.8067\n",
      "Epoch 8/10\n",
      "598/598 [==============================] - 33s 56ms/step - loss: 0.1199 - accuracy: 0.9649 - val_loss: 0.5200 - val_accuracy: 0.7667\n",
      "Epoch 9/10\n",
      "598/598 [==============================] - 33s 55ms/step - loss: 0.0750 - accuracy: 0.9866 - val_loss: 0.5303 - val_accuracy: 0.7867\n",
      "Epoch 10/10\n",
      "598/598 [==============================] - 34s 56ms/step - loss: 0.0565 - accuracy: 0.9933 - val_loss: 0.5702 - val_accuracy: 0.7933\n"
     ]
    }
   ],
   "source": [
    "early_stopping = EarlyStopping(monitor='val_acc', # go through epochs as long as accuracy on validation set increases\n",
    "                               patience=patience,\n",
    "                               mode='max')\n",
    "\n",
    "# make sure that the model corresponding to the best epoch is saved\n",
    "checkpointer = ModelCheckpoint(filepath='./CNN_model.hdf5',\n",
    "                               monitor='val_acc',\n",
    "                               save_best_only=True,\n",
    "                               verbose=0)\n",
    "\n",
    "historyCNN = model.fit(X_train, \n",
    "              Y_train,\n",
    "              batch_size = batch_size,\n",
    "              epochs = epochs,\n",
    "              validation_data = (X_test, Y_test),\n",
    "              callbacks = [early_stopping,checkpointer])"
   ]
  },
  {
   "cell_type": "code",
   "execution_count": 105,
   "metadata": {
    "ExecuteTime": {
     "end_time": "2020-02-11T22:57:27.537885Z",
     "start_time": "2020-02-11T22:57:27.287398Z"
    }
   },
   "outputs": [
    {
     "data": {
      "image/png": "[encoded data removed]",
      "text/plain": [
       "<Figure size 432x288 with 1 Axes>"
      ]
     },
     "metadata": {
      "needs_background": "light"
     },
     "output_type": "display_data"
    }
   ],
   "source": [
    "# loss and validation loss\n",
    "plt.title('Loss')\n",
    "plt.plot(historyCNN.history['loss'], label='train')\n",
    "plt.plot(historyCNN.history['val_loss'], label='test')\n",
    "plt.xlabel('epochs')\n",
    "plt.legend()\n",
    "plt.show();"
   ]
  },
  {
   "cell_type": "code",
   "execution_count": 106,
   "metadata": {
    "ExecuteTime": {
     "end_time": "2020-02-11T22:57:27.790281Z",
     "start_time": "2020-02-11T22:57:27.566575Z"
    }
   },
   "outputs": [
    {
     "data": {
      "image/png": "[encoded data removed]",
      "text/plain": [
       "<Figure size 432x288 with 1 Axes>"
      ]
     },
     "metadata": {
      "needs_background": "light"
     },
     "output_type": "display_data"
    }
   ],
   "source": [
    "# Accuracy in and out sample\n",
    "plt.title('Accuracy')\n",
    "plt.plot(historyCNN.history['accuracy'], label='train')\n",
    "plt.plot(historyCNN.history['val_accuracy'], label='test')\n",
    "plt.xlabel('epochs')\n",
    "plt.legend()\n",
    "plt.show();"
   ]
  },
  {
   "cell_type": "markdown",
   "metadata": {},
   "source": [
    "**End**"
   ]
  }
 ],
 "metadata": {
  "kernelspec": {
   "display_name": "Python 3",
   "language": "python",
   "name": "python3"
  },
  "language_info": {
   "codemirror_mode": {
    "name": "ipython",
    "version": 3
   },
   "file_extension": ".py",
   "mimetype": "text/x-python",
   "name": "python",
   "nbconvert_exporter": "python",
   "pygments_lexer": "ipython3",
   "version": "3.7.4"
  },
  "toc": {
   "base_numbering": 1,
   "nav_menu": {},
   "number_sections": false,
   "sideBar": true,
   "skip_h1_title": false,
   "title_cell": "Table of Contents",
   "title_sidebar": "Contents",
   "toc_cell": false,
   "toc_position": {},
   "toc_section_display": true,
   "toc_window_display": false
  },
  "varInspector": {
   "cols": {
    "lenName": 16,
    "lenType": 16,
    "lenVar": 40
   },
   "kernels_config": {
    "python": {
     "delete_cmd_postfix": "",
     "delete_cmd_prefix": "del ",
     "library": "var_list.py",
     "varRefreshCmd": "print(var_dic_list())"
    },
    "r": {
     "delete_cmd_postfix": ") ",
     "delete_cmd_prefix": "rm(",
     "library": "var_list.r",
     "varRefreshCmd": "cat(var_dic_list()) "
    }
   },
   "types_to_exclude": [
    "module",
    "function",
    "builtin_function_or_method",
    "instance",
    "_Feature"
   ],
   "window_display": false
  }
 },
 "nbformat": 4,
 "nbformat_minor": 2
}
